{
 "cells": [
  {
   "cell_type": "code",
   "execution_count": 1,
   "metadata": {},
   "outputs": [],
   "source": [
    "import pyttsx3\n",
    "speaker = pyttsx3.init()\n",
    "speaker.say(\"Welcome to the real Spotify hahaha\")\n",
    "speaker.runAndWait()"
   ]
  },
  {
   "cell_type": "code",
   "execution_count": 2,
   "metadata": {},
   "outputs": [],
   "source": [
    "import speech_recognition as sr\n",
    "mic = sr.Microphone()\n",
    "r = sr.Recognizer()"
   ]
  },
  {
   "cell_type": "code",
   "execution_count": 10,
   "metadata": {},
   "outputs": [
    {
     "name": "stdout",
     "output_type": "stream",
     "text": [
      "Listening..\n",
      "Axis Bank\n",
      "Redirecting\n"
     ]
    }
   ],
   "source": [
    "import webbrowser as wb\n",
    "with mic as source:\n",
    "    print(\"Listening..\")\n",
    "    speaker.say(\"Hey there.. What Kind of music do you want to listen?\")\n",
    "    speaker.runAndWait()\n",
    "    audio = r.listen(source)\n",
    "    text = r.recognize_google(audio)\n",
    "    print(text)\n",
    "    if \"romantic\" in text:\n",
    "        speaker.say(\"Oh Romantic mood huh? Okay, Let's play some romantic songs for you.\")\n",
    "        print(\"Let's play some Romantic songs for you\")\n",
    "        speaker.runAndWait()\n",
    "        wb.open_new_tab(\"http://192.168.43.67/cloud.html\")\n",
    "        \n",
    "    elif \"pop\" in text:\n",
    "        speaker.say(\"pop mood? Okay, Let me play some pop songs for you.\")\n",
    "        print(\"Let's play some Pop songs for you\")\n",
    "        speaker.runAndWait()\n",
    "        wb.open_new_tab(\"http://192.168.43.67/cloud.html\")\n",
    "        \n",
    "    elif \"electronic\" in text:\n",
    "        speaker.say(\"Yo EDM? Okay, Let's play Electronic Music.\")\n",
    "        print(\"Let's play some EDM songs for you\")\n",
    "        speaker.runAndWait()\n",
    "        wb.open_new_tab(\"http://192.168.43.67/cloud.html\")\n",
    "        \n",
    "    elif \"party\" in text:\n",
    "        speaker.say(\"Let's party. Let's play some party songs for you.\")\n",
    "        print(\"Playing Party songs for you\")\n",
    "        speaker.runAndWait()\n",
    "        wb.open_new_tab(\"http://192.168.43.67/cloud.html\")\n",
    "        \n",
    "    else:\n",
    "        speaker.say(\"I didn't get you. I'll take you to the website.\")\n",
    "        print(\"Redirecting\")\n",
    "        speaker.runAndWait()\n",
    "        wb.open_new_tab(\"http://192.168.43.67/cloud.html\")"
   ]
  },
  {
   "cell_type": "code",
   "execution_count": null,
   "metadata": {},
   "outputs": [],
   "source": []
  },
  {
   "cell_type": "code",
   "execution_count": null,
   "metadata": {},
   "outputs": [],
   "source": []
  }
 ],
 "metadata": {
  "kernelspec": {
   "display_name": "Python 3",
   "language": "python",
   "name": "python3"
  },
  "language_info": {
   "codemirror_mode": {
    "name": "ipython",
    "version": 3
   },
   "file_extension": ".py",
   "mimetype": "text/x-python",
   "name": "python",
   "nbconvert_exporter": "python",
   "pygments_lexer": "ipython3",
   "version": "3.6.4"
  }
 },
 "nbformat": 4,
 "nbformat_minor": 2
}
